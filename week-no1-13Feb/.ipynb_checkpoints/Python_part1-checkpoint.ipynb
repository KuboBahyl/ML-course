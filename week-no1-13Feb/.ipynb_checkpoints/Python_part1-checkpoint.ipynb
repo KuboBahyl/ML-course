{
 "cells": [
  {
   "cell_type": "markdown",
   "metadata": {},
   "source": [
    "# Python: Kapitola 1 - Základy\n",
    "\n",
    "Machine learning course - AjtyvIT\n",
    "\n",
    "## Ideme sa učiť Python\n",
    "V tomto notebooku sa naučíme komunikovať v jazyku Python (názov odvodený od *Monty Python*, nie toho hada). Špeciálne upozorňujeme, že pracujeme s verziou jazyka 3 (nie 2).\n",
    "\n",
    "### Výhody\n",
    "Na rozdiel od prastarých jazykov (Pascal a C) a modernejších ako C++:\n",
    "\n",
    "* použiva sa na weby ako aj *high-performance computing*\n",
    "* netreba ho kompilovať, stačí len písať kód a stláčať Enter (v prípade tohto jupyter notebooku Shift+Enter)\n",
    "* ľahko v ňom možno zadefinovaťmatematické koncepty ako vektory a matice (príp. tenzory vyššieho rádu, diferenciálne rovnice, Fourierove transformácie,..)\n",
    "* je príjemný na čítanie a písanie\n",
    "* vynikajúca dokumentácia ([docs.python.org](http://docs.python.org) alebo Stack Overflow)\n",
    "* dynamické typy (netreba písať, či je niečo int alebo string), vďaka čomu sa v ňom veľmi ľahko píšu kratšie skripty.\n",
    "\n",
    "### Nevýhody\n",
    "V porovnaní s C++ a Fortranom je pomalý. To sa dá občas napraviť rôznymi spôsobmi zlepšiť, napr.:\n",
    "* použitím knižinice [Numba](http://numba.pydata.org) či [Cythonu](https://cython.org/)\n",
    "\n",
    "Vďaka tomu, že je Python dynamicky typovaný, je občas ťažké zistiť, čo daná funkcia robí a akého typu má mať parametre. Preto sa odporúča vždy nechať v komentároch aspoň krátky popisok toho, čo funkcia očakáva na vstupe.\n",
    "\n",
    "\n",
    "## Ako sa efektívne učiť\n",
    "* *Practice makes perfect*. Kvantita (snahy) produkuje kvalitu. Čím viac toho poskúšate, tým hlbšie do pamäti sa vám to zaryje\n",
    "* Ak niečomu nerozumiete, formulujte otázku, čomu presne, a niekde si ju zapíšte. Potom sa nad ňou zamyslite alebo sa ju niekoho (kamaráta alebo lektora) spýtajte\n",
    "\n",
    "Poďme na to!"
   ]
  },
  {
   "cell_type": "markdown",
   "metadata": {},
   "source": [
    "## Premenné"
   ]
  },
  {
   "cell_type": "code",
   "execution_count": 8,
   "metadata": {},
   "outputs": [],
   "source": [
    "# toto je komentar, pre istotu nepiseme s diakritikou\n",
    "\n",
    "# pre vyhodnotenie bunky stlacte Shift+Enter"
   ]
  },
  {
   "cell_type": "code",
   "execution_count": 9,
   "metadata": {},
   "outputs": [
    {
     "data": {
      "text/plain": [
       "int"
      ]
     },
     "execution_count": 9,
     "metadata": {},
     "output_type": "execute_result"
    }
   ],
   "source": [
    "a = 5  # toto je premenna\n",
    "type(a)  # tato premenna je typu int"
   ]
  },
  {
   "cell_type": "code",
   "execution_count": 3,
   "metadata": {},
   "outputs": [
    {
     "data": {
      "text/plain": [
       "float"
      ]
     },
     "execution_count": 3,
     "metadata": {},
     "output_type": "execute_result"
    }
   ],
   "source": [
    "# typ premennej je automaticky uhadnuty\n",
    "b = 0.2\n",
    "type(b)"
   ]
  },
  {
   "cell_type": "code",
   "execution_count": 2,
   "metadata": {},
   "outputs": [
    {
     "name": "stdout",
     "output_type": "stream",
     "text": [
      "9\n",
      "4.5\n",
      "4\n",
      "1\n"
     ]
    }
   ],
   "source": [
    "a=9\n",
    "print(a)\n",
    "print(a/2)\n",
    "print(a//2) # celociselne delenie\n",
    "print(a%2)  # zvysok po deleni"
   ]
  },
  {
   "cell_type": "code",
   "execution_count": 4,
   "metadata": {},
   "outputs": [
    {
     "data": {
      "text/plain": [
       "9.2"
      ]
     },
     "execution_count": 4,
     "metadata": {},
     "output_type": "execute_result"
    }
   ],
   "source": [
    "a+b    # scitanie"
   ]
  },
  {
   "cell_type": "code",
   "execution_count": 5,
   "metadata": {},
   "outputs": [
    {
     "data": {
      "text/plain": [
       "9"
      ]
     },
     "execution_count": 5,
     "metadata": {},
     "output_type": "execute_result"
    }
   ],
   "source": [
    "b=3\n",
    "b**2   # umocnenie"
   ]
  },
  {
   "cell_type": "code",
   "execution_count": 62,
   "metadata": {},
   "outputs": [
    {
     "data": {
      "text/plain": [
       "'9'"
      ]
     },
     "execution_count": 62,
     "metadata": {},
     "output_type": "execute_result"
    }
   ],
   "source": [
    "str(9)"
   ]
  },
  {
   "cell_type": "code",
   "execution_count": 63,
   "metadata": {},
   "outputs": [
    {
     "ename": "ValueError",
     "evalue": "invalid literal for int() with base 10: 'x9'",
     "output_type": "error",
     "traceback": [
      "\u001b[0;31m-----------------------------------------------------------------\u001b[0m",
      "\u001b[0;31mValueError\u001b[0m                      Traceback (most recent call last)",
      "\u001b[0;32m<ipython-input-63-d1f30bb34e91>\u001b[0m in \u001b[0;36m<module>\u001b[0;34m()\u001b[0m\n\u001b[0;32m----> 1\u001b[0;31m \u001b[0mint\u001b[0m\u001b[0;34m(\u001b[0m\u001b[0;34m'x9'\u001b[0m\u001b[0;34m)\u001b[0m\u001b[0;34m\u001b[0m\u001b[0m\n\u001b[0m",
      "\u001b[0;31mValueError\u001b[0m: invalid literal for int() with base 10: 'x9'"
     ]
    }
   ],
   "source": [
    "int('x9')"
   ]
  },
  {
   "cell_type": "code",
   "execution_count": 64,
   "metadata": {},
   "outputs": [
    {
     "data": {
      "text/plain": [
       "1.2"
      ]
     },
     "execution_count": 64,
     "metadata": {},
     "output_type": "execute_result"
    }
   ],
   "source": [
    "float('1.2')"
   ]
  },
  {
   "cell_type": "code",
   "execution_count": 65,
   "metadata": {},
   "outputs": [
    {
     "data": {
      "text/plain": [
       "False"
      ]
     },
     "execution_count": 65,
     "metadata": {},
     "output_type": "execute_result"
    }
   ],
   "source": [
    "bool('')"
   ]
  },
  {
   "cell_type": "code",
   "execution_count": 66,
   "metadata": {},
   "outputs": [
    {
     "name": "stdout",
     "output_type": "stream",
     "text": [
      "8.5\n",
      "5.5\n"
     ]
    },
    {
     "ename": "TypeError",
     "evalue": "must be str, not int",
     "output_type": "error",
     "traceback": [
      "\u001b[0;31m-----------------------------------------------------------------\u001b[0m",
      "\u001b[0;31mTypeError\u001b[0m                       Traceback (most recent call last)",
      "\u001b[0;32m<ipython-input-66-a4190c13f9b4>\u001b[0m in \u001b[0;36m<module>\u001b[0;34m()\u001b[0m\n\u001b[1;32m      7\u001b[0m \u001b[0mprint\u001b[0m\u001b[0;34m(\u001b[0m\u001b[0mtype2\u001b[0m \u001b[0;34m+\u001b[0m \u001b[0mtype3\u001b[0m\u001b[0;34m)\u001b[0m\u001b[0;34m\u001b[0m\u001b[0m\n\u001b[1;32m      8\u001b[0m \u001b[0mprint\u001b[0m\u001b[0;34m(\u001b[0m\u001b[0mtype3\u001b[0m \u001b[0;34m+\u001b[0m \u001b[0mtype4\u001b[0m\u001b[0;34m)\u001b[0m\u001b[0;34m\u001b[0m\u001b[0m\n\u001b[0;32m----> 9\u001b[0;31m \u001b[0mprint\u001b[0m\u001b[0;34m(\u001b[0m\u001b[0mtype1\u001b[0m\u001b[0;34m+\u001b[0m\u001b[0mtype2\u001b[0m\u001b[0;34m)\u001b[0m\u001b[0;34m\u001b[0m\u001b[0m\n\u001b[0m",
      "\u001b[0;31mTypeError\u001b[0m: must be str, not int"
     ]
    }
   ],
   "source": [
    "# V pythone vieme scitavat aj rozne typy, a python sam sa rozhodne aky je finalny typ! (broadcasting)\n",
    "type1 = 'str'   #string\n",
    "type2 = 4       #int\n",
    "type3 = 4.5     #float\n",
    "type4 = True    #bool\n",
    "\n",
    "print(type2 + type3)\n",
    "print(type3 + type4)\n",
    "print(type1+type2) # error str + int"
   ]
  },
  {
   "cell_type": "markdown",
   "metadata": {},
   "source": [
    "## Strings"
   ]
  },
  {
   "cell_type": "code",
   "execution_count": 67,
   "metadata": {},
   "outputs": [
    {
     "data": {
      "text/plain": [
       "str"
      ]
     },
     "execution_count": 67,
     "metadata": {},
     "output_type": "execute_result"
    }
   ],
   "source": [
    "c = \"abc\"\n",
    "type(c)"
   ]
  },
  {
   "cell_type": "markdown",
   "metadata": {},
   "source": [
    "Zo stringami vieme robit niekotore prijemne operacie"
   ]
  },
  {
   "cell_type": "code",
   "execution_count": 68,
   "metadata": {},
   "outputs": [
    {
     "name": "stdout",
     "output_type": "stream",
     "text": [
      "ahoj svet\n",
      "ahoj ahoj svet\n"
     ]
    }
   ],
   "source": [
    "ahoj = \"ahoj\"\n",
    "medzera = \" \"\n",
    "svet = \"svet\"\n",
    "print(ahoj + medzera + svet)\n",
    "print((ahoj + medzera)*2 + svet)\n"
   ]
  },
  {
   "cell_type": "markdown",
   "metadata": {},
   "source": [
    "Jednotlivé stringy možno meniť na čísla, *float* alebo *int*."
   ]
  },
  {
   "cell_type": "code",
   "execution_count": 16,
   "metadata": {},
   "outputs": [
    {
     "name": "stdout",
     "output_type": "stream",
     "text": [
      "123\n",
      "123.0\n"
     ]
    }
   ],
   "source": [
    "s = \"123\"\n",
    "si = int(s)\n",
    "print(si)\n",
    "sf = float(s)\n",
    "print(sf)"
   ]
  },
  {
   "cell_type": "markdown",
   "metadata": {},
   "source": [
    "... a naopak, z čísel do stringu"
   ]
  },
  {
   "cell_type": "code",
   "execution_count": 71,
   "metadata": {},
   "outputs": [
    {
     "name": "stdout",
     "output_type": "stream",
     "text": [
      "123_s\n"
     ]
    }
   ],
   "source": [
    "d = 123\n",
    "ds = str(d)\n",
    "print(ds + \"_\" + \"s\")"
   ]
  },
  {
   "cell_type": "markdown",
   "metadata": {},
   "source": [
    "Možno ich ľahko premeniť na pole:"
   ]
  },
  {
   "cell_type": "code",
   "execution_count": 72,
   "metadata": {},
   "outputs": [
    {
     "name": "stdout",
     "output_type": "stream",
     "text": [
      "3\n"
     ]
    },
    {
     "data": {
      "text/plain": [
       "['1', '2', '3']"
      ]
     },
     "execution_count": 72,
     "metadata": {},
     "output_type": "execute_result"
    }
   ],
   "source": [
    "s = \"123\"\n",
    "print(len(s))   # Aky dlhy je tento string?\n",
    "list(s)"
   ]
  },
  {
   "cell_type": "markdown",
   "metadata": {},
   "source": [
    "# Lists\n",
    "*List* je usporiadaný zoznam prvkov, ktorý možno meniť, napr. `a = [1,2,3]`\n"
   ]
  },
  {
   "cell_type": "code",
   "execution_count": 79,
   "metadata": {},
   "outputs": [
    {
     "name": "stdout",
     "output_type": "stream",
     "text": [
      "[1, 2, 3]\n",
      "[1, 2, 3, 2, 5]\n"
     ]
    }
   ],
   "source": [
    "a = [1, 2, 3]\n",
    "print(a)\n",
    "b = [2, 5]\n",
    "c = a + b        # pozor na scitanie listov!\n",
    "print(a + b)\n",
    "#print(a-b)      # Error, vyskusajte"
   ]
  },
  {
   "cell_type": "code",
   "execution_count": 84,
   "metadata": {},
   "outputs": [
    {
     "name": "stdout",
     "output_type": "stream",
     "text": [
      "1\n",
      "3\n",
      "[5, 2, 3]\n"
     ]
    }
   ],
   "source": [
    "a = [1, 2, 3]\n",
    "print(a[0])   # prvy element, cislovanie zacina nulou!\n",
    "print(a[-1])  # posledny element\n",
    "#a[3]   # Error: list index out of range\n",
    "a[0] = 5\n",
    "print(a)      # prvy element zmeneny"
   ]
  },
  {
   "cell_type": "markdown",
   "metadata": {},
   "source": [
    "Rôzne operácie:"
   ]
  },
  {
   "cell_type": "code",
   "execution_count": 88,
   "metadata": {},
   "outputs": [
    {
     "name": "stdout",
     "output_type": "stream",
     "text": [
      "3\n",
      "6\n",
      "[1, 2, 3, 10]\n"
     ]
    }
   ],
   "source": [
    "a = [1, 2, 3]\n",
    "# dlzka listov\n",
    "print(len(a))\n",
    "# suma clenov\n",
    "print(sum(a))\n",
    "# pripoj dalsie cislo\n",
    "a.append(10)\n",
    "print(a)"
   ]
  },
  {
   "cell_type": "markdown",
   "metadata": {},
   "source": [
    "Listy možno usporiadať."
   ]
  },
  {
   "cell_type": "code",
   "execution_count": 89,
   "metadata": {},
   "outputs": [
    {
     "name": "stdout",
     "output_type": "stream",
     "text": [
      "[5, 3, 8, 1]\n",
      "[1, 3, 5, 8]\n"
     ]
    }
   ],
   "source": [
    "v = [5, 3, 8, 1]\n",
    "print(v)\n",
    "v.sort() # in-place operacia\n",
    "print(v)"
   ]
  },
  {
   "cell_type": "code",
   "execution_count": 36,
   "metadata": {},
   "outputs": [
    {
     "name": "stdout",
     "output_type": "stream",
     "text": [
      "range(0, 10)\n",
      "[1, 3, 5, 7, 9]\n",
      "[]\n",
      "[10, 9, 8, 7, 6, 5, 4, 3, 2]\n"
     ]
    }
   ],
   "source": [
    "# iteratory\n",
    "r = range(10)\n",
    "print(r)\n",
    "\n",
    "# range(first, last, increment)\n",
    "print(list(range(1,10,2)))\n",
    "print(list(range(10,1)))    # prazdny list\n",
    "print(list(range(10,1,-1)))"
   ]
  },
  {
   "cell_type": "markdown",
   "metadata": {
    "collapsed": true
   },
   "source": [
    "## Pristupovanie k prvkom listu"
   ]
  },
  {
   "cell_type": "markdown",
   "metadata": {},
   "source": [
    "Už sme videli, ako sa dá z listu vytiahnuť jeden prvok."
   ]
  },
  {
   "cell_type": "code",
   "execution_count": 38,
   "metadata": {},
   "outputs": [
    {
     "name": "stdout",
     "output_type": "stream",
     "text": [
      "3\n",
      "1\n",
      "9\n"
     ]
    }
   ],
   "source": [
    "a = [3, 1, 4, 1, 5, 9, 2, 6, 5, 3, 5, 9]\n",
    "print(a[0])\n",
    "print(a[1])\n",
    "print(a[-1])"
   ]
  },
  {
   "cell_type": "markdown",
   "metadata": {},
   "source": [
    "Vieme ale vyberať aj podpostupnosti (\"podlisty\")"
   ]
  },
  {
   "cell_type": "code",
   "execution_count": 39,
   "metadata": {},
   "outputs": [
    {
     "name": "stdout",
     "output_type": "stream",
     "text": [
      "[3, 1]\n",
      "[3, 1]\n",
      "[6, 5, 3, 5, 9]\n",
      "[5, 9]\n",
      "[3, 4, 5, 2, 5, 5]\n"
     ]
    }
   ],
   "source": [
    "print(a[0:2])   # prve dva prvky\n",
    "print(a[:2])    # nulu mozme vynechat\n",
    "print(a[7:])    # prvky od stvrteho vysie\n",
    "print(a[-2:])   # prvky od predposledneho vysie\n",
    "print(a[::2])   # kazdy druhy prvok"
   ]
  },
  {
   "cell_type": "markdown",
   "metadata": {
    "collapsed": true
   },
   "source": [
    "## Podmienky\n",
    "Pomocou podmienok vieme rozhodnut kedy ma cast kodu prebehnut, a kedy nie."
   ]
  },
  {
   "cell_type": "code",
   "execution_count": 40,
   "metadata": {},
   "outputs": [
    {
     "name": "stdout",
     "output_type": "stream",
     "text": [
      "Podmienka funguje!\n"
     ]
    }
   ],
   "source": [
    "# Na zaciatok vyskusajme par lahkych podmienok\n",
    "if True:\n",
    "    print(\"Podmienka funguje!\")"
   ]
  },
  {
   "cell_type": "code",
   "execution_count": 41,
   "metadata": {},
   "outputs": [],
   "source": [
    "if False:\n",
    "    print(\"Podmienka funguje!\")"
   ]
  },
  {
   "cell_type": "code",
   "execution_count": 42,
   "metadata": {},
   "outputs": [
    {
     "name": "stdout",
     "output_type": "stream",
     "text": [
      "False\n",
      "True\n",
      "True\n",
      "False\n",
      "True\n"
     ]
    }
   ],
   "source": [
    "#Vsetko ostatne je otazka matematickej logiky, pozrime sa na par logickych operacii\n",
    "a = 1\n",
    "b = 2\n",
    "\n",
    "print(a == b) \n",
    "print(a+a == b)\n",
    "print(a != b)\n",
    "print(a > b)\n",
    "print(a < b)"
   ]
  },
  {
   "cell_type": "code",
   "execution_count": 43,
   "metadata": {
    "scrolled": true
   },
   "outputs": [
    {
     "name": "stdout",
     "output_type": "stream",
     "text": [
      "a sa nerovna dva ani tri\n"
     ]
    }
   ],
   "source": [
    "# Podmienku vieme rozdelit aj na pocet podpodmienok\n",
    "a = 5\n",
    "if a == 2:\n",
    "    print(\"a sa rovna dva\")\n",
    "elif a == 3 or a == 4:\n",
    "    print(\"a sa rovna tri\")\n",
    "else:\n",
    "    print(\"a sa nerovna dva ani tri\")"
   ]
  },
  {
   "cell_type": "markdown",
   "metadata": {},
   "source": [
    "## For cyklus"
   ]
  },
  {
   "cell_type": "code",
   "execution_count": 44,
   "metadata": {},
   "outputs": [
    {
     "name": "stdout",
     "output_type": "stream",
     "text": [
      "0 0\n",
      "1 1\n",
      "2 4\n",
      "3 9\n",
      "4 16\n",
      "5 25\n",
      "6 36\n",
      "7 49\n",
      "8 64\n",
      "9 81\n"
     ]
    }
   ],
   "source": [
    "# for <premenna> in <zoznam hodnuot>\n",
    "# do premennej sa nam priradia postupne vsetky hodnoty zo zoznamu a spusti sa telo funkcie\n",
    "for i in range(10):\n",
    "    print(i, i**2)"
   ]
  },
  {
   "cell_type": "code",
   "execution_count": 45,
   "metadata": {},
   "outputs": [
    {
     "name": "stdout",
     "output_type": "stream",
     "text": [
      "4\n",
      "1\n",
      "5\n",
      "22\n",
      "5\n"
     ]
    }
   ],
   "source": [
    "for i in [4, 1, 5, 22, 5]:\n",
    "    print(i)"
   ]
  },
  {
   "cell_type": "code",
   "execution_count": 46,
   "metadata": {},
   "outputs": [
    {
     "name": "stdout",
     "output_type": "stream",
     "text": [
      "a\n",
      "b\n",
      "c\n"
     ]
    }
   ],
   "source": [
    "for i in \"abc\":   # prechadzat mozno aj stringy\n",
    "    print(i)"
   ]
  },
  {
   "cell_type": "code",
   "execution_count": 47,
   "metadata": {},
   "outputs": [
    {
     "name": "stdout",
     "output_type": "stream",
     "text": [
      "1 2\n",
      "1 7\n",
      "1 12\n",
      "1 17\n",
      "2 2\n",
      "2 7\n",
      "2 12\n",
      "2 17\n",
      "3 2\n",
      "3 7\n",
      "3 12\n",
      "3 17\n"
     ]
    }
   ],
   "source": [
    "# Mozme mat aj for vo fore\n",
    "for i in [1,2,3]:\n",
    "    for j in range(2,22,5):\n",
    "        print(i, j)"
   ]
  },
  {
   "cell_type": "markdown",
   "metadata": {},
   "source": [
    "Skúste zrátať fibonačiho číslo s indexom 100: $F_{100}$.\n",
    "\n",
    "$F_0=0$, $F_1 = 1$, $F_{i+2} = F_{i+1} + F_{i}$."
   ]
  },
  {
   "cell_type": "code",
   "execution_count": null,
   "metadata": {
    "collapsed": true
   },
   "outputs": [],
   "source": [
    "# TODO CODE\n",
    "F_i = 0\n",
    "F_i1 = 1\n",
    "F_i2 = ????\n",
    "for i in range(???):\n",
    "    F_i2 = ????\n",
    "    F_i1 = ????\n",
    "    F_i = ????\n"
   ]
  },
  {
   "cell_type": "markdown",
   "metadata": {},
   "source": [
    "## While cyklus"
   ]
  },
  {
   "cell_type": "markdown",
   "metadata": {},
   "source": [
    "While cyklus je cyklus s podmienkou. Kym je podmienka splnena cyklus sa opakuje"
   ]
  },
  {
   "cell_type": "code",
   "execution_count": 48,
   "metadata": {},
   "outputs": [
    {
     "name": "stdout",
     "output_type": "stream",
     "text": [
      "0\n",
      "1\n",
      "2\n",
      "3\n",
      "4\n",
      "5\n",
      "6\n",
      "7\n",
      "8\n",
      "9\n"
     ]
    }
   ],
   "source": [
    "i = 0\n",
    "while i < 10:\n",
    "    print(i)\n",
    "    i = i + 1"
   ]
  },
  {
   "cell_type": "markdown",
   "metadata": {},
   "source": [
    "Treba si davat velky pozor na podmienky ktore su splnene vzdy! Cyklus nikdy neskonci!"
   ]
  },
  {
   "cell_type": "markdown",
   "metadata": {},
   "source": [
    "## Funkcie\n",
    "Základný stavebný prvok programovacieho jazyka.\n",
    "\n",
    "Funkcie v Pythone môžu vracať viacero premenných (na rozdiel C/C++ a Fortranu)."
   ]
  },
  {
   "cell_type": "code",
   "execution_count": 49,
   "metadata": {},
   "outputs": [],
   "source": [
    "def plus(a, b):\n",
    "    return a + b"
   ]
  },
  {
   "cell_type": "code",
   "execution_count": 50,
   "metadata": {},
   "outputs": [
    {
     "name": "stdout",
     "output_type": "stream",
     "text": [
      "3\n",
      "2.2\n"
     ]
    }
   ],
   "source": [
    "print(plus(1, 2))\n",
    "print(plus(3.2, -1))"
   ]
  },
  {
   "cell_type": "code",
   "execution_count": 51,
   "metadata": {},
   "outputs": [
    {
     "name": "stdout",
     "output_type": "stream",
     "text": [
      "9\n",
      "11\n"
     ]
    }
   ],
   "source": [
    "# vo funkcii mozu byt defautlne premenne (netreba ich vyplnat, ak nam vyhovuje ic default hodnota)\n",
    "def plus2(a, b=2):\n",
    "    return a + b\n",
    "\n",
    "print(plus2(7))\n",
    "print(plus2(7,4))"
   ]
  },
  {
   "cell_type": "code",
   "execution_count": 52,
   "metadata": {},
   "outputs": [],
   "source": [
    "# ciferny sucet\n",
    "def cif_sucet(a):\n",
    "    sucet = 0\n",
    "    \n",
    "    for character in str(a):\n",
    "        sucet += int(character)\n",
    "        \n",
    "    return sucet"
   ]
  },
  {
   "cell_type": "code",
   "execution_count": 53,
   "metadata": {},
   "outputs": [
    {
     "data": {
      "text/plain": [
       "6"
      ]
     },
     "execution_count": 53,
     "metadata": {},
     "output_type": "execute_result"
    }
   ],
   "source": [
    "cif_sucet(123)"
   ]
  },
  {
   "cell_type": "markdown",
   "metadata": {
    "collapsed": true
   },
   "source": [
    "## [Problem 1]\n",
    "Zoberte číslo (napr. 1987) a spočítajte jeho ciferný súčet."
   ]
  },
  {
   "cell_type": "code",
   "execution_count": null,
   "metadata": {
    "collapsed": true
   },
   "outputs": [],
   "source": [
    "# TODO CODE"
   ]
  },
  {
   "cell_type": "markdown",
   "metadata": {
    "collapsed": true
   },
   "source": [
    "\n",
    "## [Problem 2]\n",
    "Nájdite súčet všetkých čísel deliteľných 3 alebo 5 menších ako 100."
   ]
  },
  {
   "cell_type": "code",
   "execution_count": null,
   "metadata": {
    "collapsed": true
   },
   "outputs": [],
   "source": [
    "# TODO CODE"
   ]
  },
  {
   "cell_type": "markdown",
   "metadata": {
    "collapsed": true
   },
   "source": [
    "\n",
    "## [Problem 3] [Adv]\n",
    "Napíšte funkciu, ktorá rozhodne, či je dané číslo prvočíslo."
   ]
  },
  {
   "cell_type": "code",
   "execution_count": null,
   "metadata": {
    "collapsed": true
   },
   "outputs": [],
   "source": [
    "# TODO CODE"
   ]
  },
  {
   "cell_type": "markdown",
   "metadata": {},
   "source": [
    "## Riešenia (skúste ale najprv sami)"
   ]
  },
  {
   "cell_type": "code",
   "execution_count": 55,
   "metadata": {},
   "outputs": [
    {
     "name": "stdout",
     "output_type": "stream",
     "text": [
      "25\n"
     ]
    }
   ],
   "source": [
    "# Problem 1\n",
    "a = 1987\n",
    "print(sum([int(i) for i in str(a)]))"
   ]
  },
  {
   "cell_type": "code",
   "execution_count": 56,
   "metadata": {
    "scrolled": true
   },
   "outputs": [
    {
     "data": {
      "text/plain": [
       "2418"
      ]
     },
     "execution_count": 56,
     "metadata": {},
     "output_type": "execute_result"
    }
   ],
   "source": [
    "# Problem 2\n",
    "sum([i for i in range(101) if i%3 == 0 or i%5 == 0])"
   ]
  },
  {
   "cell_type": "code",
   "execution_count": 57,
   "metadata": {},
   "outputs": [],
   "source": [
    "# Problem 3\n",
    "def isprime(n):\n",
    "    for i in range(2, n//2+1):\n",
    "        if n%i == 0:\n",
    "            return False\n",
    "    return True"
   ]
  }
 ],
 "metadata": {
  "kernelspec": {
   "display_name": "Python 3",
   "language": "python",
   "name": "python3"
  },
  "language_info": {
   "codemirror_mode": {
    "name": "ipython",
    "version": 3
   },
   "file_extension": ".py",
   "mimetype": "text/x-python",
   "name": "python",
   "nbconvert_exporter": "python",
   "pygments_lexer": "ipython3",
   "version": "3.6.5"
  }
 },
 "nbformat": 4,
 "nbformat_minor": 1
}
